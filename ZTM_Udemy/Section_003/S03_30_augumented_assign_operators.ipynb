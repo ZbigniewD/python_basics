{
 "cells": [
  {
   "cell_type": "code",
   "execution_count": 1,
   "id": "16739630",
   "metadata": {},
   "outputs": [
    {
     "name": "stdout",
     "output_type": "stream",
     "text": [
      "12\n"
     ]
    }
   ],
   "source": [
    "# Augumented assignment operator\n",
    "\n",
    "any_value = 6\n",
    "any_value = 7 - 3\n",
    "any_value = any_value * 3\n",
    "\n",
    "print(any_value)"
   ]
  },
  {
   "cell_type": "code",
   "execution_count": 3,
   "id": "653cfa25",
   "metadata": {},
   "outputs": [
    {
     "name": "stdout",
     "output_type": "stream",
     "text": [
      "5\n",
      "3\n"
     ]
    }
   ],
   "source": [
    "any_value = 4\n",
    "# It's a ↓ shorhand  for any_value = 4 + 1\n",
    "any_value += 1\n",
    "print(any_value)\n",
    "\n",
    "any_value -= 2\n",
    "print(any_value) "
   ]
  }
 ],
 "metadata": {
  "kernelspec": {
   "display_name": "Python 3",
   "language": "python",
   "name": "python3"
  },
  "language_info": {
   "codemirror_mode": {
    "name": "ipython",
    "version": 3
   },
   "file_extension": ".py",
   "mimetype": "text/x-python",
   "name": "python",
   "nbconvert_exporter": "python",
   "pygments_lexer": "ipython3",
   "version": "3.13.3"
  }
 },
 "nbformat": 4,
 "nbformat_minor": 5
}
