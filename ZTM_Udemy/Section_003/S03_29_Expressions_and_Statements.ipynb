{
 "cells": [
  {
   "cell_type": "code",
   "execution_count": 6,
   "id": "31215d61",
   "metadata": {},
   "outputs": [
    {
     "name": "stdout",
     "output_type": "stream",
     "text": [
      "20\n"
     ]
    }
   ],
   "source": [
    "# Expression is a piece of code that produces a value.\n",
    "# It can be a literal value, a variable, or a combination of values and operators.\n",
    "# In this example expression is a simple mathematical operation.\n",
    "# iq /5\n",
    "iq = 100\n",
    "user_age = iq / 5\n",
    "print(int(user_age))\n",
    "# The expression iq / 5 is evaluated to produce the value of user_age.\n",
    "# The statement in this example ia an entire line of code that performs an action."
   ]
  },
  {
   "cell_type": "code",
   "execution_count": null,
   "id": "46f5008d",
   "metadata": {},
   "outputs": [],
   "source": [
    "# Expression iq / 5\n",
    "# Statement user_age = iq / 5\n",
    "# Statement iq = 100\n",
    "# Statement print(int(user_age))"
   ]
  }
 ],
 "metadata": {
  "kernelspec": {
   "display_name": "Python 3",
   "language": "python",
   "name": "python3"
  },
  "language_info": {
   "codemirror_mode": {
    "name": "ipython",
    "version": 3
   },
   "file_extension": ".py",
   "mimetype": "text/x-python",
   "name": "python",
   "nbconvert_exporter": "python",
   "pygments_lexer": "ipython3",
   "version": "3.13.3"
  }
 },
 "nbformat": 4,
 "nbformat_minor": 5
}
