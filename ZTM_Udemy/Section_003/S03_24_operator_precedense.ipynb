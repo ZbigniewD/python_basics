{
 "cells": [
  {
   "cell_type": "code",
   "execution_count": 6,
   "id": "335eff7e",
   "metadata": {},
   "outputs": [
    {
     "name": "stdout",
     "output_type": "stream",
     "text": [
      "32\n",
      "92\n"
     ]
    }
   ],
   "source": [
    "# operator precedence\n",
    "precendence1 = 20 + 3 * 4\n",
    "print(precendence1)\n",
    "\n",
    "# ()\n",
    "# **\n",
    "# *\n",
    "# /\n",
    "# +\n",
    "# -\n",
    "\n",
    "precedence2 = (20 + 3) * 4\n",
    "print(precedence2)"
   ]
  },
  {
   "cell_type": "code",
   "execution_count": 7,
   "id": "86253b4c",
   "metadata": {},
   "outputs": [
    {
     "name": "stdout",
     "output_type": "stream",
     "text": [
      "45.0\n",
      "45.0\n",
      "45.0\n",
      "25.0\n",
      "25\n"
     ]
    }
   ],
   "source": [
    "print((5 + 4) * 10 / 2) # 45\n",
    "\n",
    "print(((5 + 4) * 10) / 2) # 45\n",
    "\n",
    "print((5 + 4) * (10 / 2)) # 45\n",
    "\n",
    "print(5 + (4 * 10) / 2) # 25\n",
    "\n",
    "print(5 + 4 * 10 // 2) # 25"
   ]
  }
 ],
 "metadata": {
  "kernelspec": {
   "display_name": "Python 3",
   "language": "python",
   "name": "python3"
  },
  "language_info": {
   "codemirror_mode": {
    "name": "ipython",
    "version": 3
   },
   "file_extension": ".py",
   "mimetype": "text/x-python",
   "name": "python",
   "nbconvert_exporter": "python",
   "pygments_lexer": "ipython3",
   "version": "3.13.3"
  }
 },
 "nbformat": 4,
 "nbformat_minor": 5
}
