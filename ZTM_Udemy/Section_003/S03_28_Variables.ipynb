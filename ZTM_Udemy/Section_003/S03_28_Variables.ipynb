{
 "cells": [
  {
   "cell_type": "code",
   "execution_count": null,
   "id": "61856e84",
   "metadata": {},
   "outputs": [],
   "source": [
    "# Variables store information that can be used later in the program.\n",
    "# Variables are created by assigning a value to a name using the equals sign (=)'"
   ]
  },
  {
   "cell_type": "code",
   "execution_count": 1,
   "id": "840626ae",
   "metadata": {},
   "outputs": [
    {
     "name": "stdout",
     "output_type": "stream",
     "text": [
      "120\n"
     ]
    }
   ],
   "source": [
    "iq = 120\n",
    "# Assigning a value to a variable is called \"binding\" a variable.\n",
    "# The name of the variable is on the left side of the equals sign.\n",
    "# The value of the variable is on the right side of the equals sign.\n",
    "# The equals sign is not a mathematical operator, it is an assignment operator.\n",
    "# The value of the variable can be a number, a string, a list, or any other data type.\n",
    "# The value of the variable can be changed at any time.\n",
    "print(iq)"
   ]
  },
  {
   "cell_type": "code",
   "execution_count": null,
   "id": "636086ad",
   "metadata": {},
   "outputs": [],
   "source": [
    "# Best practice is to use lowercase letters for variable names.\n",
    "# Variable names can contain letters, numbers, and underscores.\n",
    "# Variable names cannot start with a number.\n",
    "# Variable names cannot contain spaces or special characters.\n",
    "# Variable names should be descriptive and meaningful.\n",
    "# Variable names should not be too long or too short.\n",
    "# Variable names should not be the same as Python keywords or built-in functions.\n",
    "# Python keywords are reserved words that have special meaning in Python.\n",
    "# Python keywords cannot be used as variable names.\n",
    "# Python built-in functions are functions that are always available in Python.\n",
    "# Snake_case is a naming convention where words are separated by underscores.\n",
    "# CamelCase is a naming convention where the first letter of each word is capitalized.\n",
    "# PascalCase is a naming convention where the first letter of each word is capitalized and there are no underscores.\n",
    "# Kebab-case is a naming convention where words are separated by hyphens."
   ]
  },
  {
   "cell_type": "code",
   "execution_count": 2,
   "id": "1557daa9",
   "metadata": {},
   "outputs": [
    {
     "name": "stdout",
     "output_type": "stream",
     "text": [
      "50.0\n"
     ]
    }
   ],
   "source": [
    "iq = 100\n",
    "userage = iq / 2\n",
    "print(userage)\n",
    "# The value of the variable can be changed at any time."
   ]
  },
  {
   "cell_type": "code",
   "execution_count": null,
   "id": "3589f38c",
   "metadata": {},
   "outputs": [],
   "source": [
    "# The most important thing for developer is to use descriptive variable names\n",
    "# for better understanding of the code in the future.\n",
    "# Code should be easy to read and understand for other developers."
   ]
  },
  {
   "cell_type": "code",
   "execution_count": 4,
   "id": "a185255c",
   "metadata": {},
   "outputs": [
    {
     "name": "stdout",
     "output_type": "stream",
     "text": [
      "1 3\n",
      "2\n"
     ]
    }
   ],
   "source": [
    "# Assigning multiple variables in one line\n",
    "a, b, c = 1, 2, 3\n",
    "print(a, c)\n",
    "print(b)"
   ]
  }
 ],
 "metadata": {
  "kernelspec": {
   "display_name": "Python 3",
   "language": "python",
   "name": "python3"
  },
  "language_info": {
   "codemirror_mode": {
    "name": "ipython",
    "version": 3
   },
   "file_extension": ".py",
   "mimetype": "text/x-python",
   "name": "python",
   "nbconvert_exporter": "python",
   "pygments_lexer": "ipython3",
   "version": "3.13.3"
  }
 },
 "nbformat": 4,
 "nbformat_minor": 5
}
