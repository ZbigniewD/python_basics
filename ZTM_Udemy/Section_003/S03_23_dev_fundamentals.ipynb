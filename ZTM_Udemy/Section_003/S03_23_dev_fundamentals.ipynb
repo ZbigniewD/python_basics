{
 "cells": [
  {
   "cell_type": "markdown",
   "id": "fb4d7548",
   "metadata": {},
   "source": [
    "1. Don't read the dictionary.\n",
    "2. Learn language by using in, and improve over time."
   ]
  }
 ],
 "metadata": {
  "kernelspec": {
   "display_name": "Python 3",
   "language": "python",
   "name": "python3"
  },
  "language_info": {
   "name": "python",
   "version": "3.13.3"
  }
 },
 "nbformat": 4,
 "nbformat_minor": 5
}
