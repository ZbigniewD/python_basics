{
 "cells": [
  {
   "cell_type": "code",
   "execution_count": null,
   "id": "281b3b11",
   "metadata": {},
   "outputs": [
    {
     "name": "stdout",
     "output_type": "stream",
     "text": [
      "It's 'a soundbar'\n",
      "It's an \"aerbud\"\n",
      "A\t tab\n",
      "\n",
      "A\n",
      "new line.\n"
     ]
    }
   ],
   "source": [
    "# Escape Sentence\n",
    "# https://www.freecodecamp.org/news/escape-sequences-python/\n",
    "# https://docs.python.org/3.13/reference/lexical_analysis.html#escape-sequences\n",
    "device = \"It\\'s 'a soundbar'\"\n",
    "new_device = \"It\\'s an \\\"aerbud\\\"\"\n",
    "print(device)\n",
    "print(new_device)\n",
    "\n",
    "add_tab =\"A\\t tab\"\n",
    "print(add_tab)\n",
    "\n",
    "new_line = \"\\nA\\nnew line.\"\n",
    "print(new_line)"
   ]
  }
 ],
 "metadata": {
  "kernelspec": {
   "display_name": "Python 3",
   "language": "python",
   "name": "python3"
  },
  "language_info": {
   "codemirror_mode": {
    "name": "ipython",
    "version": 3
   },
   "file_extension": ".py",
   "mimetype": "text/x-python",
   "name": "python",
   "nbconvert_exporter": "python",
   "pygments_lexer": "ipython3",
   "version": "3.13.3"
  }
 },
 "nbformat": 4,
 "nbformat_minor": 5
}
