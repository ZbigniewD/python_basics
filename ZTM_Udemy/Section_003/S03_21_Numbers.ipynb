{
 "cells": [
  {
   "cell_type": "code",
   "execution_count": 8,
   "id": "dc3a19e0",
   "metadata": {},
   "outputs": [
    {
     "name": "stdout",
     "output_type": "stream",
     "text": [
      "<class 'int'>\n",
      "<class 'int'>\n",
      "<class 'int'>\n",
      "<class 'float'>\n"
     ]
    }
   ],
   "source": [
    "# Fundamental data types\n",
    "# Integers are whole numbers\n",
    "\n",
    "print(type(6))\n",
    "print(type(2 - 4))\n",
    "print(type(2 * 4))\n",
    "print(type(2 / 4))"
   ]
  },
  {
   "cell_type": "code",
   "execution_count": 10,
   "id": "6e754293",
   "metadata": {},
   "outputs": [
    {
     "name": "stdout",
     "output_type": "stream",
     "text": [
      "<class 'float'>\n",
      "<class 'int'>\n",
      "<class 'float'>\n",
      "<class 'float'>\n"
     ]
    }
   ],
   "source": [
    "# Float - floating point number\n",
    "print(type(0.00001))\n",
    "print(type(0))\n",
    "\n",
    "# Python stores this number in two different locations\n",
    "# One for 10 (int) and one for .56 (float)\n",
    "print(type(10.56))\n",
    "print(type(8.9 + 1.1))"
   ]
  },
  {
   "cell_type": "code",
   "execution_count": 14,
   "id": "0f77a2cd",
   "metadata": {},
   "outputs": [
    {
     "name": "stdout",
     "output_type": "stream",
     "text": [
      "8\n",
      "1\n",
      "1\n",
      "3\n"
     ]
    }
   ],
   "source": [
    "# Power operation \n",
    "print(2 ** 3)\n",
    "\n",
    "# Integer division - result will be always integer, decimal part is ignored.\n",
    "print(5 // 4)\n",
    "\n",
    "# Modulo returns the remainder.\n",
    "print( 7 % 3)\n",
    "print( 15 % 4)"
   ]
  },
  {
   "cell_type": "code",
   "execution_count": null,
   "id": "ce2b4211",
   "metadata": {},
   "outputs": [
    {
     "name": "stdout",
     "output_type": "stream",
     "text": [
      "2\n",
      "4\n",
      "35\n"
     ]
    }
   ],
   "source": [
    "# BiF Built in Functions\n",
    "# https://docs.python.org/3/library/functions.html\n",
    "\n",
    "print(round(2.1))\n",
    "print(round(3.9))\n",
    "\n",
    "print(abs(-35))"
   ]
  }
 ],
 "metadata": {
  "kernelspec": {
   "display_name": "Python 3",
   "language": "python",
   "name": "python3"
  },
  "language_info": {
   "codemirror_mode": {
    "name": "ipython",
    "version": 3
   },
   "file_extension": ".py",
   "mimetype": "text/x-python",
   "name": "python",
   "nbconvert_exporter": "python",
   "pygments_lexer": "ipython3",
   "version": "3.13.3"
  }
 },
 "nbformat": 4,
 "nbformat_minor": 5
}
