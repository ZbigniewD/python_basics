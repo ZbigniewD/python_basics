{
 "cells": [
  {
   "cell_type": "code",
   "execution_count": null,
   "id": "e502690f",
   "metadata": {},
   "outputs": [
    {
     "name": "stdout",
     "output_type": "stream",
     "text": [
      "<class 'str'>\n",
      "\n",
      "O_o?\n",
      "Is it a string?\n",
      "Ziggy 67GT5R\n"
     ]
    }
   ],
   "source": [
    "# Strings\n",
    "# https://docs.python.org/3/library/string.html\n",
    "# They are simply piece of text.\n",
    "\n",
    "print(type(\"Any text\")) # object type, in this case string\n",
    "\n",
    "my_name = \"Ziggy\"\n",
    "passcode =  \"67GT5R\"\n",
    "long_string = '''\n",
    "O_o?\n",
    "Is it a string?'''\n",
    "\n",
    "print(long_string)\n",
    "print(my_name + \" \" + passcode)"
   ]
  },
  {
   "cell_type": "code",
   "execution_count": 9,
   "id": "58d89661",
   "metadata": {},
   "outputs": [
    {
     "name": "stdout",
     "output_type": "stream",
     "text": [
      "brown cat\n",
      "brown cat\n",
      "5 cat's\n"
     ]
    }
   ],
   "source": [
    "# Concatenation\n",
    "# adding strings together\n",
    "animal = \"cat\"\n",
    "color = \"brown\"\n",
    "\n",
    "print(color  + \" \" + animal)\n",
    "# or\n",
    "print(\"brown\" + \" cat\")\n",
    "print (str(5) + \" \" + animal + \"'s\" )"
   ]
  },
  {
   "cell_type": "code",
   "execution_count": null,
   "id": "23d3a040",
   "metadata": {},
   "outputs": [
    {
     "name": "stdout",
     "output_type": "stream",
     "text": [
      "Hello John Doe. You are 34 years old. You are too young.\n"
     ]
    }
   ],
   "source": [
    "# Python String Formatting\n",
    "# https://www.w3schools.com/python/python_string_formatting.asp\n",
    "\n",
    "name = \"John\"\n",
    "surname = \"Doe\"\n",
    "age = 34\n",
    "# This method is usually called \"The f-string\"\n",
    "print(f\"Hello {name} {surname}. You are {age} years old. You are too young.\")"
   ]
  },
  {
   "cell_type": "code",
   "execution_count": null,
   "id": "778785e6",
   "metadata": {},
   "outputs": [],
   "source": []
  }
 ],
 "metadata": {
  "kernelspec": {
   "display_name": "Python 3",
   "language": "python",
   "name": "python3"
  },
  "language_info": {
   "codemirror_mode": {
    "name": "ipython",
    "version": 3
   },
   "file_extension": ".py",
   "mimetype": "text/x-python",
   "name": "python",
   "nbconvert_exporter": "python",
   "pygments_lexer": "ipython3",
   "version": "3.13.3"
  }
 },
 "nbformat": 4,
 "nbformat_minor": 5
}
