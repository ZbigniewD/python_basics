{
 "cells": [
  {
   "cell_type": "code",
   "execution_count": null,
   "id": "aeb23350",
   "metadata": {},
   "outputs": [
    {
     "name": "stdout",
     "output_type": "stream",
     "text": [
      "Hello, Ziggy thursday!\n"
     ]
    }
   ],
   "source": [
    "# Ask for the user's name and greet them\n",
    "name = input(\"Enter your name: \")\n",
    "\n",
    "# Remove whitespace from the str\n",
    "name = name.strip()\n",
    "# The strip() method removes any leading and trailing whitespace\n",
    "\n",
    "# Capitalize the first letter of the name\n",
    " #name = name.capitalize()\n",
    "# The capitalize() method converts the first character to uppercase and the \n",
    "# rest to lowercase\n",
    "\n",
    "# Title case the name\n",
    "# name = name.title()\n",
    "# The title() method converts the first character of each word to uppercase\n",
    "\n",
    "# Remove whtiespace and capitalize every word of the name\n",
    "name = name.strip().title()\n",
    "\n",
    "\n",
    "# Say hello to the user\n",
    "print(f\"Hello, {name}!\")\n",
    "# f is a formatted string literal\n",
    "# The f before the string allows us to include variables directly in the string\n"
   ]
  },
  {
   "cell_type": "code",
   "execution_count": null,
   "id": "ee1c4c9e",
   "metadata": {},
   "outputs": [
    {
     "name": "stdout",
     "output_type": "stream",
     "text": [
      "Hello, Ziggy Thursday!\n"
     ]
    }
   ],
   "source": [
    "# All above statements are used in the one line of code\n",
    "\n",
    "name = input(\"Enter your name: \").strip().title()\n",
    "print(f\"Hello, {name}!\")\n",
    "\n",
    "# The above line of code does the same thing as the previous code\n",
    "# The input() function takes the user's input\n",
    "# The strip() method removes any leading and trailing whitespace\n",
    "# The title() method converts the first character of each word to uppercase\n",
    "# The print() function prints the string to the console\n",
    "# The f before the string allows us to include variables directly in the string\n"
   ]
  },
  {
   "cell_type": "code",
   "execution_count": 3,
   "id": "1e32cc6c",
   "metadata": {},
   "outputs": [
    {
     "name": "stdout",
     "output_type": "stream",
     "text": [
      "Hello, Ziggy Thursday!\n"
     ]
    }
   ],
   "source": [
    "# Split of sting\n",
    "# The split() method splits a string into a list of substrings\n",
    "name = input(\"Enter your name: \").strip().title()\n",
    "\n",
    "# The split() method splits the string into a list of substrings\n",
    "name.split(\" \")\n",
    "print(f\"Hello, {name}!\")\n",
    "# The split() method splits the string into a list of substrings\n"
   ]
  }
 ],
 "metadata": {
  "kernelspec": {
   "display_name": "Python 3",
   "language": "python",
   "name": "python3"
  },
  "language_info": {
   "codemirror_mode": {
    "name": "ipython",
    "version": 3
   },
   "file_extension": ".py",
   "mimetype": "text/x-python",
   "name": "python",
   "nbconvert_exporter": "python",
   "pygments_lexer": "ipython3",
   "version": "3.13.3"
  }
 },
 "nbformat": 4,
 "nbformat_minor": 5
}
