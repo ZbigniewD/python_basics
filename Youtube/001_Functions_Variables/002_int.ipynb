{
 "cells": [
  {
   "cell_type": "code",
   "execution_count": null,
   "id": "6735f2ae",
   "metadata": {},
   "outputs": [],
   "source": [
    "# Integers in Python 3 are whole numbers of unlimited size.\n",
    "# They can be positive or negative.\n",
    "# Integers are created by writing the number directly.\n",
    "# Integers can be used in arithmetic operations.\n",
    "# Integers can be used in comparisons.\n",
    "# Integers can be used in logical operations.\n",
    "# Integers can be used in bitwise operations.\n",
    "# Integers can be used in string formatting.\n",
    "# Integers can be used in list indexing.\n",
    "# Integers can be used in dictionary keys.\n",
    "# Integers can be used in set operations.\n",
    "# Integers can be used in function arguments.\n",
    "# Integers can be used in function return values.\n",
    "# Integers can be used in class attributes.\n",
    "# Integers can be used in class methods.\n",
    "# Integers can be used in class inheritance\n",
    "# Integers can be used in class instances.\n",
    "# Tntegers do not have commas or decimal points."
   ]
  },
  {
   "cell_type": "code",
   "execution_count": 2,
   "id": "6c9afbb0",
   "metadata": {},
   "outputs": [
    {
     "name": "stdout",
     "output_type": "stream",
     "text": [
      "3\n"
     ]
    }
   ],
   "source": [
    "# Python natively supports mathematical operations on integers.\n",
    "\n",
    "# Calulator\n",
    "\n",
    "# variables\n",
    "\n",
    "x = 1\n",
    "y = 2\n",
    "z = x + y\n",
    "print(z)  # 3\n",
    "\n"
   ]
  },
  {
   "cell_type": "code",
   "execution_count": null,
   "id": "03a33271",
   "metadata": {},
   "outputs": [
    {
     "name": "stdout",
     "output_type": "stream",
     "text": [
      "101\n"
     ]
    }
   ],
   "source": [
    "# Interactive calculator\n",
    "\n",
    "x = input(\"What is x? \")\n",
    "y = input(\"What is y? \")\n",
    "# x and y are strings, so we need to convert them to integers\n",
    "z = int(x) + int(y)\n",
    "print(z)"
   ]
  },
  {
   "cell_type": "code",
   "execution_count": 7,
   "id": "926bfa06",
   "metadata": {},
   "outputs": [
    {
     "name": "stdout",
     "output_type": "stream",
     "text": [
      "90\n"
     ]
    }
   ],
   "source": [
    "# Remove z variable\n",
    "x = int(input(\"What is x? \"))\n",
    "y = int(input(\"What is y? \"))\n",
    "\n",
    "print(x + y)"
   ]
  }
 ],
 "metadata": {
  "kernelspec": {
   "display_name": "Python 3",
   "language": "python",
   "name": "python3"
  },
  "language_info": {
   "codemirror_mode": {
    "name": "ipython",
    "version": 3
   },
   "file_extension": ".py",
   "mimetype": "text/x-python",
   "name": "python",
   "nbconvert_exporter": "python",
   "pygments_lexer": "ipython3",
   "version": "3.13.3"
  }
 },
 "nbformat": 4,
 "nbformat_minor": 5
}
