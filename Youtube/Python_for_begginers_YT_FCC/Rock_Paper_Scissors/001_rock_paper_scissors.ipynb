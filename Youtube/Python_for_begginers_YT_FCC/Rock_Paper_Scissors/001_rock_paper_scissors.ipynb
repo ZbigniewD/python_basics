{
 "cells": [
  {
   "cell_type": "code",
   "execution_count": null,
   "id": "4f65b589",
   "metadata": {},
   "outputs": [],
   "source": [
    "# https://www.youtube.com/watch?v=eWRfhZUzrAc&t=16s&ab_channel=freeCodeCamp.org"
   ]
  },
  {
   "cell_type": "code",
   "execution_count": null,
   "id": "04ed713d",
   "metadata": {},
   "outputs": [],
   "source": [
    "def get_choices():\n",
    "    player_choice = \"rock\"\n",
    "    computer_choice = \"paper\"\n",
    "\n",
    "    return player_choice\n",
    "    # return computer_choice"
   ]
  },
  {
   "cell_type": "code",
   "execution_count": 2,
   "id": "1730d16b",
   "metadata": {},
   "outputs": [
    {
     "name": "stdout",
     "output_type": "stream",
     "text": [
      "Hello, Player!\n"
     ]
    }
   ],
   "source": [
    "def greetings():\n",
    "    return(\"Hello, Player!\")\n",
    "\n",
    "response = greetings()\n",
    "print(response)"
   ]
  },
  {
   "cell_type": "code",
   "execution_count": 3,
   "id": "27b08769",
   "metadata": {},
   "outputs": [
    {
     "name": "stdout",
     "output_type": "stream",
     "text": [
      "paper\n"
     ]
    }
   ],
   "source": [
    "def get_choices():\n",
    "    player_choice = \"rock\"\n",
    "    computer_choice = \"paper\"\n",
    "\n",
    "    return computer_choice\n",
    "    # return player_choice\n",
    "choices = get_choices()\n",
    "print(choices)"
   ]
  },
  {
   "cell_type": "code",
   "execution_count": 4,
   "id": "8d4df564",
   "metadata": {},
   "outputs": [
    {
     "name": "stdout",
     "output_type": "stream",
     "text": [
      "['rock', 'paper', 'scissors', 'rock', 'paper', 'scissors']\n"
     ]
    }
   ],
   "source": [
    "def get_choices():\n",
    "    player_choice = [\"rock\", \"paper\", \"scissors\"]\n",
    "    computer_choice = [\"rock\", \"paper\", \"scissors\"]\n",
    "    choices = player_choice + computer_choice\n",
    "    return choices\n",
    "choices = get_choices()\n",
    "print(choices)"
   ]
  },
  {
   "cell_type": "code",
   "execution_count": 21,
   "id": "6015d0d6",
   "metadata": {},
   "outputs": [
    {
     "name": "stdout",
     "output_type": "stream",
     "text": [
      "{'player': 'scissors', 'computer': 'rock'}\n"
     ]
    }
   ],
   "source": [
    "import random\n",
    "def get_choices():\n",
    "    player_choice = input(\"Enter your choice (rock, paper, scissors): \").lower()\n",
    "    computer_choice = [\"paper\", \"rock\", \"scissors\"]\n",
    "    random_computer_choice = random.choice(computer_choice)\n",
    "    choices = {\"player\": player_choice, \"computer\": random_computer_choice}\n",
    "\n",
    "    return choices\n",
    "choices = get_choices()\n",
    "print(choices)"
   ]
  },
  {
   "cell_type": "code",
   "execution_count": null,
   "id": "a61b8949",
   "metadata": {},
   "outputs": [
    {
     "name": "stdout",
     "output_type": "stream",
     "text": [
      "You chose: rock, computer choice: paper\n",
      "You loose\n"
     ]
    }
   ],
   "source": [
    "import random\n",
    "def get_choices():\n",
    "    player_choice = input(\"Enter your choice (rock, paper, scissors): \").lower()\n",
    "    computer_choice = [\"paper\", \"rock\", \"scissors\"]\n",
    "    random_computer_choice = random.choice(computer_choice)\n",
    "    choices = {\"player\": player_choice, \"computer\": random_computer_choice}\n",
    "    return choices\n",
    "\n",
    "def check_win(player, computer):\n",
    "    print(f\"You chose: {player}, computer choice: {computer}\")\n",
    "    if player == computer:\n",
    "        return \"It's a tie\"\n",
    "    elif player == \"rock\" and computer == \"scissors\":\n",
    "        print(\"You won\")\n",
    "    elif player == \"rock\" and computer == \"paper\":\n",
    "        print(\"You lose\")\n",
    "    else:\n",
    "        print(\"You lose\")\n",
    "check_win(\"rock\", \"paper\")"
   ]
  },
  {
   "cell_type": "code",
   "execution_count": null,
   "id": "a09fac2a",
   "metadata": {},
   "outputs": [
    {
     "name": "stdout",
     "output_type": "stream",
     "text": [
      "You chose: rock, computer choice: scissors\n",
      "You won\n"
     ]
    }
   ],
   "source": [
    "import random\n",
    "def get_choices():\n",
    "    player_choice = input(\"Enter your choice (rock, paper, scissors): \").lower()\n",
    "    computer_choice = [\"paper\", \"rock\", \"scissors\"]\n",
    "    random_computer_choice = random.choice(computer_choice)\n",
    "    choices = {\"player\": player_choice, \"computer\": random_computer_choice}\n",
    "    return choices\n",
    "\n",
    "def check_win(player, computer):\n",
    "    print(f\"You chose: {player}, computer choice: {computer}\")\n",
    "\n",
    "    if player == computer:\n",
    "        return \"It's a tie\"\n",
    "    elif player == \"rock\":\n",
    "        if computer == \"scissors\":\n",
    "            return \"You won\"\n",
    "        else:\n",
    "            return \"You lose\"\n",
    "    elif player == \"paper\":\n",
    "        if computer == \"rock\":\n",
    "            return \"You wonrock\"\n",
    "        else:\n",
    "            return \"You lose\"\n",
    "    elif player == \"scissors\":\n",
    "        if computer == \"paper\":\n",
    "            return \"You won\"\n",
    "        else:\n",
    "            return \"You lose\"\n",
    "\n",
    "choices = get_choices()\n",
    "\n",
    "result = check_win(choices[\"player\"], choices[\"computer\"])\n",
    "print(result)"
   ]
  }
 ],
 "metadata": {
  "kernelspec": {
   "display_name": "Python 3",
   "language": "python",
   "name": "python3"
  },
  "language_info": {
   "codemirror_mode": {
    "name": "ipython",
    "version": 3
   },
   "file_extension": ".py",
   "mimetype": "text/x-python",
   "name": "python",
   "nbconvert_exporter": "python",
   "pygments_lexer": "ipython3",
   "version": "3.13.3"
  }
 },
 "nbformat": 4,
 "nbformat_minor": 5
}
